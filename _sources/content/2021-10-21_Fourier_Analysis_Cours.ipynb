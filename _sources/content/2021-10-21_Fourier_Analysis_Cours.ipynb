{
 "cells": [
  {
   "cell_type": "markdown",
   "id": "8fd4da27",
   "metadata": {},
   "source": [
    "# Fourier Analysis Course\n",
    "\n",
    "Over the pase few years, there have been several developments in ML involving the fourier transform. This should not be surprising, since the fourier transform is classically \n",
    "one of the main tools used for working with complex signals. In any event, I've decided to brush up on the topic and found a great course from Stanford that has all of the \n",
    "lectures, assignments, and solutions available online. Great stuff, thanks Stanford!\n",
    "\n",
    "* Full course materials: https://see.stanford.edu/Course/EE261\n",
    "* Youtube playlist: https://www.youtube.com/playlist?list=PLB24BC7956EE040CD"
   ]
  }
 ],
 "metadata": {
  "author": "David Marx",
  "date": "2021-10-21",
  "jupytext": {
   "formats": "md:myst",
   "text_representation": {
    "extension": ".md",
    "format_name": "myst"
   }
  },
  "kernelspec": {
   "display_name": "Python 3",
   "language": "python",
   "name": "python3"
  },
  "language_info": {
   "codemirror_mode": {
    "name": "ipython",
    "version": 3
   },
   "file_extension": ".py",
   "mimetype": "text/x-python",
   "name": "python",
   "nbconvert_exporter": "python",
   "pygments_lexer": "ipython3",
   "version": "3.8.12"
  },
  "source_map": [
   13
  ]
 },
 "nbformat": 4,
 "nbformat_minor": 5
}