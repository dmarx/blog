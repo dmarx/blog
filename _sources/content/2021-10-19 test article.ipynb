{
 "cells": [
  {
   "cell_type": "markdown",
   "id": "5febe93f",
   "metadata": {},
   "source": [
    "# Sample article\n",
    "\n",
    "> {sub-ref}`today` | {sub-ref}`wordcount-words` words | {sub-ref}`wordcount-minutes` min read\n",
    "\n",
    "https://myst-parser.readthedocs.io/en/latest/sphinx/use.html?highlight=date#sphinx-specific-page-front-matter\n",
    "\n",
    "https://myst-parser.readthedocs.io/en/latest/sphinx/roles-and-directives.html?highlight=date#insert-the-date-and-reading-time"
   ]
  }
 ],
 "metadata": {
  "author": null,
  "date": null,
  "jupytext": {
   "formats": "md:myst",
   "text_representation": {
    "extension": ".md",
    "format_name": "myst"
   }
  },
  "kernelspec": {
   "display_name": "Python 3",
   "language": "python",
   "name": "python3"
  },
  "language_info": {
   "codemirror_mode": {
    "name": "ipython",
    "version": 3
   },
   "file_extension": ".py",
   "mimetype": "text/x-python",
   "name": "python",
   "nbconvert_exporter": "python",
   "pygments_lexer": "ipython3",
   "version": "3.8.12"
  },
  "source_map": [
   14
  ]
 },
 "nbformat": 4,
 "nbformat_minor": 5
}